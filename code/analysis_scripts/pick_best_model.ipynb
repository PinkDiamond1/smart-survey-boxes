{
 "cells": [
  {
   "cell_type": "code",
   "execution_count": 3,
   "metadata": {},
   "outputs": [],
   "source": [
    "import pandas as pd\n",
    "import os"
   ]
  },
  {
   "cell_type": "markdown",
   "metadata": {},
   "source": [
    "## Set up working directory"
   ]
  },
  {
   "cell_type": "code",
   "execution_count": 5,
   "metadata": {},
   "outputs": [],
   "source": [
    "res_dir = os.path.abspath('/Users/dmatekenya/Google-Drive/worldbank/smart-survey-boxes/outputs/model_evaluation/')\n",
    "res_file = os.path.join(res_dir, 'nn_vs_out_of_box.csv')                     "
   ]
  },
  {
   "cell_type": "markdown",
   "metadata": {},
   "source": [
    "## Read data"
   ]
  },
  {
   "cell_type": "code",
   "execution_count": 6,
   "metadata": {},
   "outputs": [],
   "source": [
    "df = pd.read_csv(res_file)"
   ]
  },
  {
   "cell_type": "code",
   "execution_count": 7,
   "metadata": {},
   "outputs": [
    {
     "data": {
      "text/plain": [
       "(13600, 43)"
      ]
     },
     "execution_count": 7,
     "metadata": {},
     "output_type": "execute_result"
    }
   ],
   "source": [
    "df.shape"
   ]
  },
  {
   "cell_type": "code",
   "execution_count": 8,
   "metadata": {},
   "outputs": [
    {
     "data": {
      "text/plain": [
       "Index(['accuracy', 'actual_0', 'actual_1', 'avg_f1_score',\n",
       "       'avg_f1_score_sc_macro', 'avg_f1_score_sc_micro', 'avg_precision',\n",
       "       'avg_precision_sc_macro', 'avg_precision_sc_micro',\n",
       "       'avg_recall_sc_macro', 'avg_recall_sc_micro', 'box_id',\n",
       "       'correct_pred_0', 'correct_pred_1', 'f1_score_0', 'f1_score_0_sc',\n",
       "       'f1_score_1', 'f1_score_1_sc', 'max_training_cases',\n",
       "       'mean_training_cases', 'median_training_cases', 'min_training_cases',\n",
       "       'model_name', 'model_type', 'neighbors', 'num_invalid_events',\n",
       "       'num_missing_events', 'num_non_missing_events', 'precision_0',\n",
       "       'precision_0_sc', 'precision_1', 'precision_1_sc', 'psu', 'recall_0',\n",
       "       'recall_0_sc', 'recall_1', 'recall_1_sc', 'region', 'support',\n",
       "       'tot_pred_0', 'tot_pred_1', 'total_non_missing_events',\n",
       "       'window_length'],\n",
       "      dtype='object')"
      ]
     },
     "execution_count": 8,
     "metadata": {},
     "output_type": "execute_result"
    }
   ],
   "source": [
    "df.columns"
   ]
  },
  {
   "cell_type": "code",
   "execution_count": 27,
   "metadata": {},
   "outputs": [
    {
     "data": {
      "text/plain": [
       "model_type\n",
       "major    17.763384\n",
       "nn        4.571582\n",
       "out      90.507753\n",
       "rand     50.621085\n",
       "Name: recall_0, dtype: float64"
      ]
     },
     "execution_count": 27,
     "metadata": {},
     "output_type": "execute_result"
    }
   ],
   "source": [
    "df.groupby([\"model_type\"])['recall_0'].mean()"
   ]
  },
  {
   "cell_type": "code",
   "execution_count": 11,
   "metadata": {},
   "outputs": [],
   "source": [
    "df_out = df[df.model_type == 'out']"
   ]
  },
  {
   "cell_type": "code",
   "execution_count": 13,
   "metadata": {},
   "outputs": [
    {
     "data": {
      "text/plain": [
       "Index(['accuracy', 'actual_0', 'actual_1', 'avg_f1_score',\n",
       "       'avg_f1_score_sc_macro', 'avg_f1_score_sc_micro', 'avg_precision',\n",
       "       'avg_precision_sc_macro', 'avg_precision_sc_micro',\n",
       "       'avg_recall_sc_macro', 'avg_recall_sc_micro', 'box_id',\n",
       "       'correct_pred_0', 'correct_pred_1', 'f1_score_0', 'f1_score_0_sc',\n",
       "       'f1_score_1', 'f1_score_1_sc', 'max_training_cases',\n",
       "       'mean_training_cases', 'median_training_cases', 'min_training_cases',\n",
       "       'model_name', 'model_type', 'neighbors', 'num_invalid_events',\n",
       "       'num_missing_events', 'num_non_missing_events', 'precision_0',\n",
       "       'precision_0_sc', 'precision_1', 'precision_1_sc', 'psu', 'recall_0',\n",
       "       'recall_0_sc', 'recall_1', 'recall_1_sc', 'region', 'support',\n",
       "       'tot_pred_0', 'tot_pred_1', 'total_non_missing_events',\n",
       "       'window_length'],\n",
       "      dtype='object')"
      ]
     },
     "execution_count": 13,
     "metadata": {},
     "output_type": "execute_result"
    }
   ],
   "source": [
    "df_out.columns"
   ]
  },
  {
   "cell_type": "code",
   "execution_count": 16,
   "metadata": {},
   "outputs": [],
   "source": [
    "x = df_out.groupby([\"window_length\", \"neighbors\"])['accuracy'].mean()"
   ]
  },
  {
   "cell_type": "code",
   "execution_count": 18,
   "metadata": {},
   "outputs": [],
   "source": [
    "x = x.reset_index()"
   ]
  },
  {
   "cell_type": "code",
   "execution_count": 19,
   "metadata": {},
   "outputs": [
    {
     "data": {
      "text/plain": [
       "window_length    30.000000\n",
       "neighbors        10.000000\n",
       "accuracy         97.914894\n",
       "dtype: float64"
      ]
     },
     "execution_count": 19,
     "metadata": {},
     "output_type": "execute_result"
    }
   ],
   "source": [
    "x.m"
   ]
  },
  {
   "cell_type": "code",
   "execution_count": 21,
   "metadata": {},
   "outputs": [
    {
     "data": {
      "text/plain": [
       "97.914893617021292"
      ]
     },
     "execution_count": 21,
     "metadata": {},
     "output_type": "execute_result"
    }
   ],
   "source": [
    "x['accuracy'].max()"
   ]
  },
  {
   "cell_type": "code",
   "execution_count": 23,
   "metadata": {},
   "outputs": [
    {
     "data": {
      "text/html": [
       "<div>\n",
       "<style>\n",
       "    .dataframe thead tr:only-child th {\n",
       "        text-align: right;\n",
       "    }\n",
       "\n",
       "    .dataframe thead th {\n",
       "        text-align: left;\n",
       "    }\n",
       "\n",
       "    .dataframe tbody tr th {\n",
       "        vertical-align: top;\n",
       "    }\n",
       "</style>\n",
       "<table border=\"1\" class=\"dataframe\">\n",
       "  <thead>\n",
       "    <tr style=\"text-align: right;\">\n",
       "      <th></th>\n",
       "      <th>window_length</th>\n",
       "      <th>neighbors</th>\n",
       "      <th>accuracy</th>\n",
       "    </tr>\n",
       "  </thead>\n",
       "  <tbody>\n",
       "    <tr>\n",
       "      <th>4</th>\n",
       "      <td>7</td>\n",
       "      <td>-1</td>\n",
       "      <td>97.914894</td>\n",
       "    </tr>\n",
       "    <tr>\n",
       "      <th>7</th>\n",
       "      <td>7</td>\n",
       "      <td>10</td>\n",
       "      <td>97.760000</td>\n",
       "    </tr>\n",
       "    <tr>\n",
       "      <th>12</th>\n",
       "      <td>30</td>\n",
       "      <td>-1</td>\n",
       "      <td>97.680000</td>\n",
       "    </tr>\n",
       "    <tr>\n",
       "      <th>3</th>\n",
       "      <td>-1</td>\n",
       "      <td>10</td>\n",
       "      <td>97.600000</td>\n",
       "    </tr>\n",
       "    <tr>\n",
       "      <th>15</th>\n",
       "      <td>30</td>\n",
       "      <td>10</td>\n",
       "      <td>97.520000</td>\n",
       "    </tr>\n",
       "    <tr>\n",
       "      <th>2</th>\n",
       "      <td>-1</td>\n",
       "      <td>1</td>\n",
       "      <td>97.194894</td>\n",
       "    </tr>\n",
       "    <tr>\n",
       "      <th>8</th>\n",
       "      <td>15</td>\n",
       "      <td>-1</td>\n",
       "      <td>97.109787</td>\n",
       "    </tr>\n",
       "    <tr>\n",
       "      <th>10</th>\n",
       "      <td>15</td>\n",
       "      <td>1</td>\n",
       "      <td>97.034894</td>\n",
       "    </tr>\n",
       "    <tr>\n",
       "      <th>13</th>\n",
       "      <td>30</td>\n",
       "      <td>0</td>\n",
       "      <td>96.880000</td>\n",
       "    </tr>\n",
       "    <tr>\n",
       "      <th>9</th>\n",
       "      <td>15</td>\n",
       "      <td>0</td>\n",
       "      <td>96.874894</td>\n",
       "    </tr>\n",
       "    <tr>\n",
       "      <th>0</th>\n",
       "      <td>-1</td>\n",
       "      <td>-1</td>\n",
       "      <td>96.714894</td>\n",
       "    </tr>\n",
       "    <tr>\n",
       "      <th>11</th>\n",
       "      <td>15</td>\n",
       "      <td>10</td>\n",
       "      <td>96.554894</td>\n",
       "    </tr>\n",
       "    <tr>\n",
       "      <th>14</th>\n",
       "      <td>30</td>\n",
       "      <td>1</td>\n",
       "      <td>96.554894</td>\n",
       "    </tr>\n",
       "    <tr>\n",
       "      <th>5</th>\n",
       "      <td>7</td>\n",
       "      <td>0</td>\n",
       "      <td>96.474894</td>\n",
       "    </tr>\n",
       "    <tr>\n",
       "      <th>1</th>\n",
       "      <td>-1</td>\n",
       "      <td>0</td>\n",
       "      <td>96.160000</td>\n",
       "    </tr>\n",
       "    <tr>\n",
       "      <th>6</th>\n",
       "      <td>7</td>\n",
       "      <td>1</td>\n",
       "      <td>96.149787</td>\n",
       "    </tr>\n",
       "  </tbody>\n",
       "</table>\n",
       "</div>"
      ],
      "text/plain": [
       "    window_length  neighbors   accuracy\n",
       "4               7         -1  97.914894\n",
       "7               7         10  97.760000\n",
       "12             30         -1  97.680000\n",
       "3              -1         10  97.600000\n",
       "15             30         10  97.520000\n",
       "2              -1          1  97.194894\n",
       "8              15         -1  97.109787\n",
       "10             15          1  97.034894\n",
       "13             30          0  96.880000\n",
       "9              15          0  96.874894\n",
       "0              -1         -1  96.714894\n",
       "11             15         10  96.554894\n",
       "14             30          1  96.554894\n",
       "5               7          0  96.474894\n",
       "1              -1          0  96.160000\n",
       "6               7          1  96.149787"
      ]
     },
     "execution_count": 23,
     "metadata": {},
     "output_type": "execute_result"
    }
   ],
   "source": [
    "x.sort_values(by='accuracy', ascending=False)"
   ]
  },
  {
   "cell_type": "code",
   "execution_count": null,
   "metadata": {},
   "outputs": [],
   "source": [
    "res_dir = os.path.abspath('/Users/dmatekenya/Google-Drive/worldbank/smart-survey-boxes/outputs/model_evaluation/')"
   ]
  }
 ],
 "metadata": {
  "kernelspec": {
   "display_name": "Python 3",
   "language": "python",
   "name": "python3"
  },
  "language_info": {
   "codemirror_mode": {
    "name": "ipython",
    "version": 3
   },
   "file_extension": ".py",
   "mimetype": "text/x-python",
   "name": "python",
   "nbconvert_exporter": "python",
   "pygments_lexer": "ipython3",
   "version": "3.6.3"
  }
 },
 "nbformat": 4,
 "nbformat_minor": 2
}
