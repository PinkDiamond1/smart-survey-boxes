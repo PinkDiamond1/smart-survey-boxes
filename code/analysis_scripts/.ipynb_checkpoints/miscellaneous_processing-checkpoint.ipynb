{
 "cells": [
  {
   "cell_type": "code",
   "execution_count": 2,
   "metadata": {},
   "outputs": [],
   "source": [
    "#Import packages\n",
    "import random\n",
    "import os, sys\n",
    "from collections import Counter\n",
    "import pytz\n",
    "import pandas as pd\n",
    "import numpy as np\n",
    "from datetime import datetime, date, time, timedelta\n",
    "import re\n",
    "from IPython.display import Image\n",
    "import itertools\n",
    "import pandas as pd\n",
    "import matplotlib.pyplot as plt\n",
    "from IPython.display import display"
   ]
  },
  {
   "cell_type": "code",
   "execution_count": 4,
   "metadata": {},
   "outputs": [],
   "source": [
    "data_dir = \"/Users/dmatekenya/Google-Drive/worldbank/smart-survey-boxes/data/\"\n",
    "sum_file_1 = os.path.join(data_d + 'proce'))"
   ]
  },
  {
   "cell_type": "code",
   "execution_count": null,
   "metadata": {},
   "outputs": [],
   "source": [
    "df_sum = pd.read_csv("
   ]
  },
  {
   "cell_type": "code",
   "execution_count": 3,
   "metadata": {},
   "outputs": [],
   "source": [
    "# Get the data: sms_rect_hr.csv'\n",
    "cols_to_use = ['box_id', 'psu', 'lon', 'lat', 'str_datetime_sent_hr', 'day_sent', 'hour_sent', 'month_sent',\n",
    "                   'wk_day_sent', 'wk_end', 'event_type_num', 'event_type_str', 'power_state', 'data_source']\n",
    "sms1 = pd.read_csv(data_dir + 'sms_observed.csv', parse_dates=['str_datetime_sent', 'str_datetime_sent_hr'])\n",
    "sms2 = pd.read_csv(data_dir + 'sms_rect_hr.csv', usecols=cols_to_use, parse_dates=['str_datetime_sent_hr'])\n",
    "sms2.rename(columns={'str_datetime_sent_hr': 'datetime_sent_hr'}, inplace=True)\n",
    "\n",
    "# Remove missing values\n",
    "sms2 = sms2[sms2.power_state != -1]"
   ]
  },
  {
   "cell_type": "code",
   "execution_count": 4,
   "metadata": {},
   "outputs": [],
   "source": [
    "sms1_state = sms1[sms1['event_type_str'].isin(['pfail','pback'])]\n",
    "sms1_state_elaps = ut.add_elapsed_time_to_dataframe(sms1_state)\n",
    "sms1_all_elaps = ut.add_elapsed_time_to_dataframe(sms1)"
   ]
  },
  {
   "cell_type": "code",
   "execution_count": 10,
   "metadata": {},
   "outputs": [
    {
     "data": {
      "text/plain": [
       "pfail    0.506504\n",
       "pback    0.493496\n",
       "Name: event_type_str, dtype: float64"
      ]
     },
     "execution_count": 10,
     "metadata": {},
     "output_type": "execute_result"
    }
   ],
   "source": [
    "sms1_state_elaps.event_type_str.value_counts(normalize=True)"
   ]
  },
  {
   "cell_type": "code",
   "execution_count": 6,
   "metadata": {},
   "outputs": [
    {
     "data": {
      "text/plain": [
       "count    137452.000000\n",
       "mean         12.790632\n",
       "std          85.546170\n",
       "min           0.000000\n",
       "25%           0.000000\n",
       "50%           0.000000\n",
       "75%           6.000000\n",
       "max        6223.000000\n",
       "Name: time_elapsed_hrs, dtype: float64"
      ]
     },
     "execution_count": 6,
     "metadata": {},
     "output_type": "execute_result"
    }
   ],
   "source": [
    "sms1_state_elaps.time_elapsed_hrs.describe()"
   ]
  },
  {
   "cell_type": "code",
   "execution_count": 9,
   "metadata": {},
   "outputs": [
    {
     "data": {
      "text/plain": [
       "pon_mon      0.414219\n",
       "pfail        0.263175\n",
       "pback        0.256416\n",
       "pfail_mon    0.066191\n",
       "Name: event_type_str, dtype: float64"
      ]
     },
     "execution_count": 9,
     "metadata": {},
     "output_type": "execute_result"
    }
   ],
   "source": [
    "sms1_all_elaps.event_type_str.value_counts(normalize=True)"
   ]
  },
  {
   "cell_type": "code",
   "execution_count": 8,
   "metadata": {},
   "outputs": [
    {
     "data": {
      "text/plain": [
       "count    264539.000000\n",
       "mean          6.721172\n",
       "std          55.192265\n",
       "min           0.000000\n",
       "25%           0.000000\n",
       "50%           3.000000\n",
       "75%          12.000000\n",
       "max        6215.000000\n",
       "Name: time_elapsed_hrs, dtype: float64"
      ]
     },
     "execution_count": 8,
     "metadata": {},
     "output_type": "execute_result"
    }
   ],
   "source": [
    "sms1_all_elaps.time_elapsed_hrs.describe()"
   ]
  },
  {
   "cell_type": "markdown",
   "metadata": {},
   "source": [
    "**Event sequences**\n",
    "==========="
   ]
  },
  {
   "cell_type": "code",
   "execution_count": 13,
   "metadata": {},
   "outputs": [
    {
     "data": {
      "text/html": [
       "<div>\n",
       "<style>\n",
       "    .dataframe thead tr:only-child th {\n",
       "        text-align: right;\n",
       "    }\n",
       "\n",
       "    .dataframe thead th {\n",
       "        text-align: left;\n",
       "    }\n",
       "\n",
       "    .dataframe tbody tr th {\n",
       "        vertical-align: top;\n",
       "    }\n",
       "</style>\n",
       "<table border=\"1\" class=\"dataframe\">\n",
       "  <thead>\n",
       "    <tr style=\"text-align: right;\">\n",
       "      <th></th>\n",
       "      <th>pfail</th>\n",
       "      <th>pfail_mon</th>\n",
       "      <th>pback</th>\n",
       "      <th>pon_mon</th>\n",
       "    </tr>\n",
       "  </thead>\n",
       "  <tbody>\n",
       "    <tr>\n",
       "      <th>pfail</th>\n",
       "      <td>2613</td>\n",
       "      <td>9657</td>\n",
       "      <td>56204</td>\n",
       "      <td>1146</td>\n",
       "    </tr>\n",
       "    <tr>\n",
       "      <th>pfail_mon</th>\n",
       "      <td>949</td>\n",
       "      <td>4727</td>\n",
       "      <td>9176</td>\n",
       "      <td>2658</td>\n",
       "    </tr>\n",
       "    <tr>\n",
       "      <th>pback</th>\n",
       "      <td>37997</td>\n",
       "      <td>664</td>\n",
       "      <td>1906</td>\n",
       "      <td>27264</td>\n",
       "    </tr>\n",
       "    <tr>\n",
       "      <th>pon_mon</th>\n",
       "      <td>28060</td>\n",
       "      <td>2462</td>\n",
       "      <td>546</td>\n",
       "      <td>78509</td>\n",
       "    </tr>\n",
       "  </tbody>\n",
       "</table>\n",
       "</div>"
      ],
      "text/plain": [
       "           pfail pfail_mon  pback pon_mon\n",
       "pfail       2613      9657  56204    1146\n",
       "pfail_mon    949      4727   9176    2658\n",
       "pback      37997       664   1906   27264\n",
       "pon_mon    28060      2462    546   78509"
      ]
     },
     "execution_count": 13,
     "metadata": {},
     "output_type": "execute_result"
    }
   ],
   "source": [
    "events = list(sms1.event_type_str)\n",
    "transition_matrix = pd.DataFrame(index=list(set(events)),columns=list(set(events)))\n",
    "\n",
    "for (x,y), c in Counter(zip(events, events[1:])).items():\n",
    "    transition_matrix.loc[x][y] = c\n",
    "    #print(x,y, c)\n",
    "\n",
    "transition_matrix"
   ]
  },
  {
   "cell_type": "code",
   "execution_count": null,
   "metadata": {},
   "outputs": [],
   "source": []
  }
 ],
 "metadata": {
  "kernelspec": {
   "display_name": "Python 3",
   "language": "python",
   "name": "python3"
  },
  "language_info": {
   "codemirror_mode": {
    "name": "ipython",
    "version": 3
   },
   "file_extension": ".py",
   "mimetype": "text/x-python",
   "name": "python",
   "nbconvert_exporter": "python",
   "pygments_lexer": "ipython3",
   "version": "3.6.3"
  }
 },
 "nbformat": 4,
 "nbformat_minor": 2
}
