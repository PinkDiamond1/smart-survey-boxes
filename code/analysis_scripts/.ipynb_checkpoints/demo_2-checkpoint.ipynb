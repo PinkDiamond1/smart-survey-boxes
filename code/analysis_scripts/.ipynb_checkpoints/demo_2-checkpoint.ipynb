{
 "cells": [
  {
   "cell_type": "code",
   "execution_count": 1,
   "metadata": {},
   "outputs": [],
   "source": [
    "import pandas as pd\n",
    "import numpy as np\n",
    "from collections import Counter\n",
    "from prettytable import PrettyTable\n",
    "from collections import defaultdict\n",
    "from pypower import data_utils as dut\n",
    "import operator\n",
    "import math\n",
    "import os"
   ]
  },
  {
   "cell_type": "code",
   "execution_count": 2,
   "metadata": {},
   "outputs": [],
   "source": [
    "def print_results_summary(data=None, metric='avg_f1_score', model=None):\n",
    "    MODEL_DESC = {'nn': 'Custom nearest neighbor model', 'out': 'Decision tree classifier (ETC)',\n",
    "             'rand': 'Random classifier', 'major': 'Majority classifier'}\n",
    "    print(    '='*60)\n",
    "    print('          Summary Results (%) for Metric: {}'.format(metric))\n",
    "    print(    '='*60)\n",
    "    \n",
    "    x = PrettyTable(['Model', 'Mean', 'Median', 'Min', 'Max', 'Std'])\n",
    "    for m in list(data.model_type.unique()):\n",
    "        df_m = data[data.model_type==m]\n",
    "        model_name = MODEL_DESC.get(m)\n",
    "        x.add_row([model_name, round(np.mean(df_m[metric]), 2), round(np.median(df_m[metric]),2), \n",
    "                   round(np.min(df_m[metric]),2), round(np.max(df_m[metric]),2), \n",
    "                   round(np.std(df_m[metric]),2)])\n",
    "    x.align = 'r'\n",
    "    print(x)"
   ]
  },
  {
   "cell_type": "code",
   "execution_count": 8,
   "metadata": {},
   "outputs": [],
   "source": [
    "cols = ['psu', 'region', 'box_id', 'support', 'window_length', 'neighbors', 'model_name', 'model_type',\n",
    "            'max_training_cases', 'mean_training_cases', 'median_training_cases', 'min_training_cases',\n",
    "            'total_non_missing_events', 'num_invalid_events', 'num_missing_events', 'num_non_missing_events',\n",
    "            'actual_0', 'actual_1', 'correct_pred_0', 'correct_pred_1', 'tot_pred_0', 'tot_pred_1', 'accuracy',\n",
    "            'precision_0', 'precision_0_sc','precision_1', 'precision_1_sc','avg_precision', 'avg_precision_sc_macro',\n",
    "            'avg_precision_sc_micro', 'recall_0', 'recall_0_sc','recall_1', 'recall_1_sc', 'avg_recall_sc_macro',\n",
    "            'avg_recall_sc_micro','f1_score_0', 'f1_score_0_sc', 'f1_score_1', 'f1_score_1_sc', 'avg_f1_score',\n",
    "            'avg_f1_score_sc_macro', 'avg_f1_score_sc_micro']\n",
    "df_all = pd.read_csv('/Users/dmatekenya/PycharmProjects/power-mon/outputs/2017-10-16_nn_vs_out_of_box_model/w-1n-1_nn_vs_out_of_box.csv')\n",
    "df_all_10_neighbors = pd.read_csv('/Users/dmatekenya/PycharmProjects/power-mon/outputs/2017-10-16_nn_vs_out_of_box_model/w-1n10_nn_vs_out_of_box.csv')"
   ]
  },
  {
   "cell_type": "code",
   "execution_count": null,
   "metadata": {},
   "outputs": [],
   "source": [
    "df.head()"
   ]
  },
  {
   "cell_type": "code",
   "execution_count": 12,
   "metadata": {},
   "outputs": [
    {
     "name": "stdout",
     "output_type": "stream",
     "text": [
      "============================================================\n",
      "          Summary Results (%) for Metric: avg_precision\n",
      "============================================================\n",
      "+--------------------------------+-------+--------+-------+-------+-------+\n",
      "|                          Model |  Mean | Median |   Min |   Max |   Std |\n",
      "+--------------------------------+-------+--------+-------+-------+-------+\n",
      "|  Custom nearest neighbor model | 31.86 |   37.0 |   0.0 |  47.0 | 13.85 |\n",
      "| Decision tree classifier (ETC) | 94.02 |  97.22 |  50.0 | 100.0 |  9.98 |\n",
      "|            Majority classifier | 31.86 |   37.0 |   0.0 |  47.0 | 13.85 |\n",
      "|              Random classifier | 48.85 |  49.41 | 38.59 | 61.21 |  4.57 |\n",
      "+--------------------------------+-------+--------+-------+-------+-------+\n"
     ]
    }
   ],
   "source": [
    "print_results_summary(data=df_all, metric='avg_precision', model=None)"
   ]
  },
  {
   "cell_type": "code",
   "execution_count": 10,
   "metadata": {},
   "outputs": [
    {
     "name": "stdout",
     "output_type": "stream",
     "text": [
      "============================================================\n",
      "          Summary Results (%) for Metric: precision_0\n",
      "============================================================\n",
      "+--------------------------------+-------+--------+-------+-------+-------+\n",
      "|                          Model |  Mean | Median |   Min |   Max |   Std |\n",
      "+--------------------------------+-------+--------+-------+-------+-------+\n",
      "|  Custom nearest neighbor model |   0.0 |    0.0 |   0.0 |   0.0 |   0.0 |\n",
      "| Decision tree classifier (ETC) | 94.96 |  100.0 | 71.43 | 100.0 |  8.58 |\n",
      "|            Majority classifier |   0.0 |    0.0 |   0.0 |   0.0 |   0.0 |\n",
      "|              Random classifier | 35.41 |  24.24 |  3.85 | 100.0 | 29.03 |\n",
      "+--------------------------------+-------+--------+-------+-------+-------+\n"
     ]
    }
   ],
   "source": [
    "print_results_summary(data=df_all, metric='precision_0', model=None)"
   ]
  },
  {
   "cell_type": "code",
   "execution_count": null,
   "metadata": {},
   "outputs": [],
   "source": [
    "print_results_summary(data=df3, metric='precision_1', model=None)"
   ]
  },
  {
   "cell_type": "code",
   "execution_count": null,
   "metadata": {},
   "outputs": [],
   "source": [
    "print_results_summary(data=df3, metric='precision_0', model=None)"
   ]
  },
  {
   "cell_type": "code",
   "execution_count": null,
   "metadata": {},
   "outputs": [],
   "source": [
    "print_results_summary(data=df3, metric='avg_f1_score', model=None)"
   ]
  },
  {
   "cell_type": "code",
   "execution_count": null,
   "metadata": {},
   "outputs": [],
   "source": [
    "cols_to_use = ['box_id', 'psu', 'lon', 'lat', 'str_datetime_sent_hr', 'event_type_str', 'str_datetime_sent', 'power_state']\n",
    "df = pd.read_csv(data_dir + 'sms_observed.csv', parse_dates=['str_datetime_sent_hr', 'str_datetime_sent'])\n",
    "sms2 = pd.read_csv(data_dir + 'sms_rect_hr.csv', parse_dates=['str_datetime_sent_hr', 'str_datetime_sent'], usecols=cols_to_use)\n",
    "df.rename(columns={'str_datetime_sent_hr': 'dt_hr', 'str_datetime_sent': 'dt'}, inplace=True)\n",
    "bx = df[df.box_id==1008]\n",
    "bx = bx.sort_values(by=['dt'])\n",
    "power_state_dict = {'pback': 1, 'pfail': 0, 'pon_mon': 1, 'pfail_mon': 0, 'missing': -1}"
   ]
  },
  {
   "cell_type": "code",
   "execution_count": null,
   "metadata": {},
   "outputs": [],
   "source": [
    "df.head()"
   ]
  },
  {
   "cell_type": "code",
   "execution_count": null,
   "metadata": {},
   "outputs": [],
   "source": [
    "data_dir = \"/Users/dmatekenya/Google Drive/World-Bank/electricity_monitoring/01.data/processed_sms/\""
   ]
  },
  {
   "cell_type": "code",
   "execution_count": null,
   "metadata": {},
   "outputs": [],
   "source": [
    "im = pd.read_csv(data_dir + 'sms_observed.csv', parse_dates=['str_datetime_sent_hr', 'str_datetime_sent'])"
   ]
  },
  {
   "cell_type": "code",
   "execution_count": null,
   "metadata": {},
   "outputs": [],
   "source": [
    "sms1 = pd.read_csv(data_dir + 'sms_observed.csv', parse_dates=['str_datetime_sent', 'str_datetime_sent_hr'])"
   ]
  },
  {
   "cell_type": "code",
   "execution_count": null,
   "metadata": {},
   "outputs": [],
   "source": [
    "sms2.str_datetime_sent_hr.describe()"
   ]
  },
  {
   "cell_type": "code",
   "execution_count": null,
   "metadata": {},
   "outputs": [],
   "source": [
    "max(x_dict.items(), key=operator.itemgetter(1))[0]"
   ]
  },
  {
   "cell_type": "code",
   "execution_count": null,
   "metadata": {},
   "outputs": [],
   "source": [
    "sms2.power_state.value_counts()"
   ]
  },
  {
   "cell_type": "code",
   "execution_count": null,
   "metadata": {},
   "outputs": [],
   "source": [
    " df_missing = sms2[sms2.power_stater_state==-1]"
   ]
  },
  {
   "cell_type": "code",
   "execution_count": null,
   "metadata": {},
   "outputs": [],
   "source": [
    "df_grps = df_missing.groupby(['box_id'])['power_state'].count()\n",
    "df_grps = df_grps.reset_index()\n",
    "#df_grps = df_grps[['box_id', 'power_state']]\n",
    "\n",
    "df_grps = df_grps.sort_values(by='power_state', ascending=False)\n",
    "df_grps_dict = df_grps.to_dict(orient='list')\n",
    "df_grps[:50]"
   ]
  },
  {
   "cell_type": "code",
   "execution_count": null,
   "metadata": {},
   "outputs": [],
   "source": [
    "sms1_all = dut.add_elapsed_to_dataframe(sms1)"
   ]
  },
  {
   "cell_type": "code",
   "execution_count": null,
   "metadata": {},
   "outputs": [],
   "source": [
    "sms1_all.head()"
   ]
  },
  {
   "cell_type": "code",
   "execution_count": null,
   "metadata": {},
   "outputs": [],
   "source": [
    "sms1_onoff = sms1[sms1['event_type_str'].isin(['pback', 'pfail'])]\n",
    "sms1_onoff"
   ]
  },
  {
   "cell_type": "code",
   "execution_count": null,
   "metadata": {},
   "outputs": [],
   "source": [
    "sms1_state = dut.add_elapsed_to_dataframe(sms1_onoff)"
   ]
  },
  {
   "cell_type": "code",
   "execution_count": null,
   "metadata": {},
   "outputs": [],
   "source": [
    "sms1_state.head()"
   ]
  },
  {
   "cell_type": "code",
   "execution_count": null,
   "metadata": {},
   "outputs": [],
   "source": [
    "df_elaps = pd.DataFrame(df.time_elapsed_hrs.value_counts())\n",
    "type(df_elaps)"
   ]
  },
  {
   "cell_type": "code",
   "execution_count": null,
   "metadata": {},
   "outputs": [],
   "source": [
    "df.time_elapsed_hrs.describe()"
   ]
  },
  {
   "cell_type": "code",
   "execution_count": null,
   "metadata": {},
   "outputs": [],
   "source": [
    "sms2.power_state.value_counts()"
   ]
  },
  {
   "cell_type": "code",
   "execution_count": null,
   "metadata": {},
   "outputs": [],
   "source": [
    "df2 = pd.read_csv(data_dir + 'sms_observed.csv')"
   ]
  },
  {
   "cell_type": "code",
   "execution_count": null,
   "metadata": {},
   "outputs": [],
   "source": [
    "df2.columns"
   ]
  },
  {
   "cell_type": "code",
   "execution_count": null,
   "metadata": {},
   "outputs": [],
   "source": [
    "sms1_all = sms1.set_index(sms1.str_datetime_sent)"
   ]
  },
  {
   "cell_type": "code",
   "execution_count": null,
   "metadata": {},
   "outputs": [],
   "source": [
    "sms1_all['time_elapsed'] = (sms1_all['str_datetime_sent']-sms1_all['str_datetime_sent'].shift()).fillna(0)\n",
    "\n",
    "sms1_all['time_elapsed_hrs'] = sms1_all['time_elapsed'].apply(lambda x: int(x.total_seconds()/3600))"
   ]
  },
  {
   "cell_type": "code",
   "execution_count": null,
   "metadata": {},
   "outputs": [],
   "source": [
    "sms1_all.shape[0]"
   ]
  },
  {
   "cell_type": "code",
   "execution_count": null,
   "metadata": {},
   "outputs": [],
   "source": [
    "sms1_all = sms1_all.set_index([[i for i in range(sms1_all.shape[0])]])"
   ]
  },
  {
   "cell_type": "code",
   "execution_count": null,
   "metadata": {},
   "outputs": [],
   "source": [
    "sms1_all"
   ]
  },
  {
   "cell_type": "code",
   "execution_count": null,
   "metadata": {},
   "outputs": [],
   "source": [
    "bx2['time_elapsed_hrs'] = bx2['time_elapsed_hrs2'].apply(lambda x: int(x.total_seconds()/3600))"
   ]
  },
  {
   "cell_type": "code",
   "execution_count": null,
   "metadata": {},
   "outputs": [],
   "source": [
    "bx2.time_elapsed_hrs.value_counts(sort=True)"
   ]
  },
  {
   "cell_type": "code",
   "execution_count": null,
   "metadata": {},
   "outputs": [],
   "source": [
    "events = list(bx.event_type_str)\n",
    "transition_matrix = pd.DataFrame(index=list(set(events)),columns=list(set(events)))\n",
    "\n",
    "for (x,y), c in Counter(zip(events, events[1:])).items():\n",
    "    transition_matrix.loc[x][y] = c\n",
    "    #print(x,y, c)\n",
    "\n",
    "transition_matrix"
   ]
  },
  {
   "cell_type": "code",
   "execution_count": null,
   "metadata": {},
   "outputs": [],
   "source": [
    "event_seq = {x:{} for x in set(events)}"
   ]
  },
  {
   "cell_type": "code",
   "execution_count": null,
   "metadata": {},
   "outputs": [],
   "source": [
    "event_seq"
   ]
  },
  {
   "cell_type": "code",
   "execution_count": null,
   "metadata": {},
   "outputs": [],
   "source": [
    "b = np.zeros((3,3))"
   ]
  },
  {
   "cell_type": "code",
   "execution_count": null,
   "metadata": {},
   "outputs": [],
   "source": [
    "res = {}\n",
    "for (x,y), c in Counter(zip(a, a[1:])).items():\n",
    "    print(x,y, 'cnt', c)\n",
    "    b[x-1,y-1] = c"
   ]
  },
  {
   "cell_type": "code",
   "execution_count": null,
   "metadata": {},
   "outputs": [],
   "source": [
    "cols = list(set(events))\n",
    "x = PrettyTable(cols)\n",
    "for c in cols:\n",
    "    row = []\n",
    "    for k,v in event_seq.items():\n",
    "        if c == x[0]\n",
    "          row.append(v)"
   ]
  },
  {
   "cell_type": "code",
   "execution_count": null,
   "metadata": {},
   "outputs": [],
   "source": [
    "df = pd.DataFrame(index=list(set(events)),columns=list(set(events)))"
   ]
  },
  {
   "cell_type": "code",
   "execution_count": null,
   "metadata": {},
   "outputs": [],
   "source": [
    "df"
   ]
  },
  {
   "cell_type": "code",
   "execution_count": null,
   "metadata": {},
   "outputs": [],
   "source": [
    "df.loc['pback']['pon_mon'] = 1"
   ]
  },
  {
   "cell_type": "code",
   "execution_count": null,
   "metadata": {},
   "outputs": [],
   "source": [
    "df"
   ]
  },
  {
   "cell_type": "code",
   "execution_count": null,
   "metadata": {},
   "outputs": [],
   "source": []
  }
 ],
 "metadata": {
  "kernelspec": {
   "display_name": "Python 3",
   "language": "python",
   "name": "python3"
  },
  "language_info": {
   "codemirror_mode": {
    "name": "ipython",
    "version": 3
   },
   "file_extension": ".py",
   "mimetype": "text/x-python",
   "name": "python",
   "nbconvert_exporter": "python",
   "pygments_lexer": "ipython3",
   "version": "3.6.3"
  }
 },
 "nbformat": 4,
 "nbformat_minor": 2
}
